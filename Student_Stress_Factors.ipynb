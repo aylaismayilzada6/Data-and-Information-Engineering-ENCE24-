{
  "cells": [
    {
      "cell_type": "code",
      "execution_count": 2,
      "metadata": {
        "colab": {
          "base_uri": "https://localhost:8080/",
          "height": 71
        },
        "colab_type": "code",
        "id": "2TbcSvQbAuWV",
        "outputId": "807de2d2-5c26-4768-caa6-14e3c14379d9"
      },
      "outputs": [],
      "source": [
        "import numpy as np \n",
        "import pandas as pd \n",
        "import seaborn as sns\n",
        "import matplotlib.pyplot as plt"
      ]
    },
    {
      "cell_type": "code",
      "execution_count": 3,
      "metadata": {
        "colab": {},
        "colab_type": "code",
        "id": "pqnJ239VAMcP"
      },
      "outputs": [],
      "source": [
        "df = pd.read_csv(\"StressLevelDataset.csv\")"
      ]
    },
    {
      "cell_type": "markdown",
      "metadata": {
        "colab_type": "text",
        "id": "adPA0OmXInbB"
      },
      "source": [
        "# Dataset\n",
        "\n",
        "This dataset contains around 20 features that create the most impact on the Stress of a Student. The features are selected scientifically considering 5 major factors, they are Psychological, Physiological, Social, Environmental, and Academic Factors. Some of them are:\n",
        "\n",
        "**Psychological Factors:** anxiety level **(0-21)**, self esteem scale **(0-30)**, mental health history **(0, 1)**, depression level**(0-27)**\n",
        "\n",
        "**Physiological Factors:** headache experience per week **(0-5)**, blood pressure mm Hg density **(1.00-3.00)**, sleep quality  satisfaction scale **(0-5)**, breathing problem experienced per week **(0-5)**\n",
        "\n",
        "**Environmental Factors:** noise level **(0-5)**, living conditions satisfaction scale **(0-5)**, safety level **(0-5)**, basic needs provided **(0-5)**\n",
        "\n",
        "**Academic Factors:** academic performance scale **(0-5)**, study load **(0-5)**, teacher-student relationship satisfaction scale **(0-5)**, future career concerns **(0-5)**\n",
        "\n",
        "**Social Factor:** social support **(0-3)**, peer pressure **(0-5)**, extracurricular activities participation per semester **(0-5)**, bullying **(0-5)**"
      ]
    },
    {
      "cell_type": "markdown",
      "metadata": {},
      "source": [
        "# Descriptive Statistics:\n",
        "\n",
        "1) How many students are in the dataset?"
      ]
    },
    {
      "cell_type": "code",
      "execution_count": 7,
      "metadata": {
        "colab": {
          "base_uri": "https://localhost:8080/",
          "height": 204
        },
        "colab_type": "code",
        "id": "wOlVhwN6Apet",
        "outputId": "3efc53b3-4435-4f53-eeef-2e0935171525"
      },
      "outputs": [
        {
          "name": "stdout",
          "output_type": "stream",
          "text": [
            "Number of students in the dataset: 1100\n"
          ]
        }
      ],
      "source": [
        "# Get the number of rows in the DataFrame\n",
        "num_students = df.shape[0]\n",
        "\n",
        "# Print the number of students\n",
        "print(\"Number of students in the dataset:\", num_students)"
      ]
    },
    {
      "cell_type": "markdown",
      "metadata": {},
      "source": [
        "2) What is the average anxiety level of students in the dataset?"
      ]
    },
    {
      "cell_type": "code",
      "execution_count": 10,
      "metadata": {
        "colab": {
          "base_uri": "https://localhost:8080/",
          "height": 34
        },
        "colab_type": "code",
        "id": "FytvwomUA2Sk",
        "outputId": "00c2a625-fbd5-4f56-e360-ccce4d66366c"
      },
      "outputs": [
        {
          "name": "stdout",
          "output_type": "stream",
          "text": [
            "Average anxiety level of students on a scale from 0 to 21 in the dataset: 11.063636363636364\n"
          ]
        }
      ],
      "source": [
        "# Calculate the average anxiety level\n",
        "average_anxiety_level = df['anxiety_level'].mean()\n",
        "\n",
        "# Print the average anxiety level\n",
        "print(\"Average anxiety level of students on a scale from 0 to 21 in the dataset:\", average_anxiety_level)"
      ]
    },
    {
      "cell_type": "markdown",
      "metadata": {},
      "source": [
        "3) How many students have reported a history of mental health issues?"
      ]
    },
    {
      "cell_type": "code",
      "execution_count": 14,
      "metadata": {
        "colab": {
          "base_uri": "https://localhost:8080/",
          "height": 297
        },
        "colab_type": "code",
        "id": "A5aS3JmrA3m_",
        "outputId": "b25a5c76-cf8a-4cc7-8b6b-a125e18da2a3"
      },
      "outputs": [
        {
          "name": "stdout",
          "output_type": "stream",
          "text": [
            "Number of students with a history of mental health issues: 542\n"
          ]
        }
      ],
      "source": [
        "# Filter the DataFrame to select rows where mental_health_history > 0\n",
        "mental_health_history_count = df[df['mental_health_history'] > 0].shape[0]\n",
        "\n",
        "# Print the number of students with a history of mental health issues\n",
        "print(\"Number of students with a history of mental health issues:\", mental_health_history_count)"
      ]
    },
    {
      "cell_type": "markdown",
      "metadata": {},
      "source": [
        "# Psychological Factors:\n",
        "\n",
        "1) How many students have a self-esteem level below the average?"
      ]
    },
    {
      "cell_type": "code",
      "execution_count": 13,
      "metadata": {
        "colab": {
          "base_uri": "https://localhost:8080/",
          "height": 170
        },
        "colab_type": "code",
        "id": "e6XqkYA1vFla",
        "outputId": "35197c0a-a456-44b4-9e7c-69210a70835c"
      },
      "outputs": [
        {
          "name": "stdout",
          "output_type": "stream",
          "text": [
            "Number of students with a self-esteem level below the average: 507\n"
          ]
        }
      ],
      "source": [
        "# Calculate the average self-esteem level\n",
        "average_self_esteem = df['self_esteem'].mean()\n",
        "\n",
        "# Filter the DataFrame to select rows where self_esteem < average_self_esteem\n",
        "below_average_self_esteem_count = df[df['self_esteem'] < average_self_esteem].shape[0]\n",
        "\n",
        "# Print the number of students with self-esteem level below the average\n",
        "print(\"Number of students with a self-esteem level below the average:\", below_average_self_esteem_count)"
      ]
    },
    {
      "cell_type": "markdown",
      "metadata": {},
      "source": [
        "2) What percentage of students have reported experiencing depression?"
      ]
    },
    {
      "cell_type": "code",
      "execution_count": 19,
      "metadata": {
        "colab": {
          "base_uri": "https://localhost:8080/",
          "height": 817
        },
        "colab_type": "code",
        "id": "EPWCAj9xrpQK",
        "outputId": "ec7183cd-dcf3-4066-c523-f44ab22bde34"
      },
      "outputs": [
        {
          "name": "stdout",
          "output_type": "stream",
          "text": [
            "Percentage of students reporting experiencing depression: 96.0 %\n"
          ]
        }
      ],
      "source": [
        "# Count the number of students reporting experiencing depression\n",
        "depression_count = df[df['depression'] > 0].shape[0]\n",
        "\n",
        "# Calculate the total number of students\n",
        "total_students = df.shape[0]\n",
        "\n",
        "# Calculate the percentage of students reporting experiencing depression\n",
        "percentage_depression = (depression_count / total_students) * 100\n",
        "\n",
        "# Print the percentage of students reporting experiencing depression\n",
        "print(\"Percentage of students reporting experiencing depression:\", percentage_depression,\"%\")"
      ]
    },
    {
      "cell_type": "markdown",
      "metadata": {
        "colab_type": "text",
        "id": "qvdBux65L9NE"
      },
      "source": [
        "# Physiological Factors:\n",
        "\n",
        "1) How many students experience headaches frequently?"
      ]
    },
    {
      "cell_type": "code",
      "execution_count": 20,
      "metadata": {
        "colab": {
          "base_uri": "https://localhost:8080/",
          "height": 170
        },
        "colab_type": "code",
        "id": "O657Pp0KA64V",
        "outputId": "701178c5-d5d0-4f67-bb51-af92b132be79"
      },
      "outputs": [
        {
          "name": "stdout",
          "output_type": "stream",
          "text": [
            "Number of students experiencing frequent headaches: 556\n"
          ]
        }
      ],
      "source": [
        "# Define the threshold for frequent headaches\n",
        "headache_threshold = 3\n",
        "\n",
        "# Filter the DataFrame to select rows where headache >= headache_threshold\n",
        "frequent_headache_count = df[df['headache'] >= headache_threshold].shape[0]\n",
        "\n",
        "# Print the number of students experiencing frequent headaches\n",
        "print(\"Number of students experiencing frequent headaches:\", frequent_headache_count)"
      ]
    },
    {
      "cell_type": "markdown",
      "metadata": {},
      "source": [
        "2) What is the average blood pressure reading among the students?"
      ]
    },
    {
      "cell_type": "code",
      "execution_count": 21,
      "metadata": {
        "colab": {
          "base_uri": "https://localhost:8080/",
          "height": 419
        },
        "colab_type": "code",
        "id": "orWOI8BZ9Oej",
        "outputId": "1c1b6a83-99b3-4189-c05c-d03a90b41ae0"
      },
      "outputs": [
        {
          "name": "stdout",
          "output_type": "stream",
          "text": [
            "Average blood pressure reading among the students: 2.1818181818181817\n"
          ]
        }
      ],
      "source": [
        "# Calculate the average blood pressure reading\n",
        "average_blood_pressure = df['blood_pressure'].mean()\n",
        "\n",
        "# Print the average blood pressure reading\n",
        "print(\"Average blood pressure reading among the students:\", average_blood_pressure)"
      ]
    },
    {
      "cell_type": "markdown",
      "metadata": {},
      "source": [
        "3) How many students rate their sleep quality as poor?"
      ]
    },
    {
      "cell_type": "code",
      "execution_count": 22,
      "metadata": {
        "colab": {},
        "colab_type": "code",
        "id": "1O1qiXYPBAFN"
      },
      "outputs": [
        {
          "name": "stdout",
          "output_type": "stream",
          "text": [
            "Number of students rating their sleep quality as poor: 550\n"
          ]
        }
      ],
      "source": [
        "# Define the threshold for poor sleep quality\n",
        "sleep_quality_threshold = 3\n",
        "\n",
        "# Filter the DataFrame to select rows where sleep_quality >= sleep_quality_threshold\n",
        "poor_sleep_quality_count = df[df['sleep_quality'] >= sleep_quality_threshold].shape[0]\n",
        "\n",
        "# Print the number of students rating their sleep quality as poor\n",
        "print(\"Number of students rating their sleep quality as poor:\", poor_sleep_quality_count)"
      ]
    },
    {
      "cell_type": "markdown",
      "metadata": {},
      "source": [
        "# Environmental Factors:\n",
        "\n",
        "1) How many students live in conditions with high noise levels?"
      ]
    },
    {
      "cell_type": "code",
      "execution_count": 23,
      "metadata": {
        "colab": {},
        "colab_type": "code",
        "id": "b6decEB0BK4r"
      },
      "outputs": [
        {
          "name": "stdout",
          "output_type": "stream",
          "text": [
            "Number of students living in conditions with high noise levels: 563\n"
          ]
        }
      ],
      "source": [
        "# Define the threshold for high noise levels\n",
        "noise_level_threshold = 3\n",
        "\n",
        "# Filter the DataFrame to select rows where noise_level >= noise_level_threshold\n",
        "high_noise_level_count = df[df['noise_level'] >= noise_level_threshold].shape[0]\n",
        "\n",
        "# Print the number of students living in conditions with high noise levels\n",
        "print(\"Number of students living in conditions with high noise levels:\", high_noise_level_count)"
      ]
    },
    {
      "cell_type": "markdown",
      "metadata": {
        "colab_type": "text",
        "id": "Jn4M8UHZoJkZ"
      },
      "source": [
        "2) What percentage of students feel unsafe in their living conditions?"
      ]
    },
    {
      "cell_type": "code",
      "execution_count": 25,
      "metadata": {
        "colab": {
          "base_uri": "https://localhost:8080/",
          "height": 264
        },
        "colab_type": "code",
        "id": "UutIuq1xCkWh",
        "outputId": "e01b47d2-69ee-4599-9ac0-7dd28a088801"
      },
      "outputs": [
        {
          "name": "stdout",
          "output_type": "stream",
          "text": [
            "Percentage of students feeling unsafe in their living conditions: 48.63636363636364 %\n"
          ]
        }
      ],
      "source": [
        "# Define the threshold for feeling unsafe\n",
        "safety_threshold = 3\n",
        "\n",
        "# Filter the DataFrame to select rows where safety >= safety_threshold\n",
        "unsafe_count = df[df['safety'] >= safety_threshold].shape[0]\n",
        "\n",
        "# Calculate the total number of students\n",
        "total_students = df.shape[0]\n",
        "\n",
        "# Calculate the percentage of students feeling unsafe\n",
        "percentage_unsafe = (unsafe_count / total_students) * 100\n",
        "\n",
        "# Print the percentage of students feeling unsafe in their living conditions\n",
        "print(\"Percentage of students feeling unsafe in their living conditions:\", percentage_unsafe,\"%\")"
      ]
    },
    {
      "cell_type": "markdown",
      "metadata": {
        "colab_type": "text",
        "id": "BLnrs9V6okoN"
      },
      "source": [
        "3) How many students have reported not having their basic needs met?"
      ]
    },
    {
      "cell_type": "code",
      "execution_count": 26,
      "metadata": {
        "colab": {
          "base_uri": "https://localhost:8080/",
          "height": 264
        },
        "colab_type": "code",
        "id": "aeF4jlT7Cke_",
        "outputId": "e364fd18-9f86-468c-e702-fe9df4a830fd"
      },
      "outputs": [
        {
          "name": "stdout",
          "output_type": "stream",
          "text": [
            "Number of students who have reported not having their basic needs met: 40\n"
          ]
        }
      ],
      "source": [
        "# Filter the DataFrame to select rows where basic_needs == 0\n",
        "basic_needs_not_met_count = df[df['basic_needs'] == 0].shape[0]\n",
        "\n",
        "# Print the number of students who have reported not having their basic needs met\n",
        "print(\"Number of students who have reported not having their basic needs met:\", basic_needs_not_met_count)"
      ]
    },
    {
      "cell_type": "markdown",
      "metadata": {
        "colab_type": "text",
        "id": "h3xEzqLepeR6"
      },
      "source": [
        "# Academic Factors:\n",
        "\n",
        "1) How many students rate their academic performance as below average?"
      ]
    },
    {
      "cell_type": "code",
      "execution_count": 27,
      "metadata": {
        "colab": {
          "base_uri": "https://localhost:8080/",
          "height": 264
        },
        "colab_type": "code",
        "id": "ZP_3o7y6CkiT",
        "outputId": "d5406104-7cf7-4cbd-d817-6dfff68b13b8"
      },
      "outputs": [
        {
          "name": "stdout",
          "output_type": "stream",
          "text": [
            "Number of students rating their academic performance as below average: 730\n"
          ]
        }
      ],
      "source": [
        "# Define the threshold for below-average academic performance\n",
        "academic_performance_threshold = 3\n",
        "\n",
        "# Filter the DataFrame to select rows where academic_performance <= academic_performance_threshold\n",
        "below_average_academic_performance_count = df[df['academic_performance'] <= academic_performance_threshold].shape[0]\n",
        "\n",
        "# Print the number of students rating their academic performance as below average\n",
        "print(\"Number of students rating their academic performance as below average:\", below_average_academic_performance_count)"
      ]
    },
    {
      "cell_type": "markdown",
      "metadata": {
        "colab_type": "text",
        "id": "Rar4y9c7qItT"
      },
      "source": [
        "2) What is the average study load reported by students?"
      ]
    },
    {
      "cell_type": "code",
      "execution_count": 28,
      "metadata": {
        "colab": {},
        "colab_type": "code",
        "id": "mjCAb3HfK8tT"
      },
      "outputs": [
        {
          "name": "stdout",
          "output_type": "stream",
          "text": [
            "Average study load reported by students: 2.6218181818181816\n"
          ]
        }
      ],
      "source": [
        "# Calculate the average study load reported by students\n",
        "average_study_load = df['study_load'].mean()\n",
        "\n",
        "# Print the average study load reported by students\n",
        "print(\"Average study load reported by students:\", average_study_load)"
      ]
    },
    {
      "cell_type": "markdown",
      "metadata": {},
      "source": [
        "3) How many students have concerns about their future careers?"
      ]
    },
    {
      "cell_type": "code",
      "execution_count": 29,
      "metadata": {},
      "outputs": [
        {
          "name": "stdout",
          "output_type": "stream",
          "text": [
            "Number of students with concerns about their future careers: 544\n"
          ]
        }
      ],
      "source": [
        "# Define the threshold for concerns about future careers\n",
        "future_career_concerns_threshold = 3\n",
        "\n",
        "# Filter the DataFrame to select rows where future_career_concerns >= future_career_concerns_threshold\n",
        "concerns_about_future_careers_count = df[df['future_career_concerns'] >= future_career_concerns_threshold].shape[0]\n",
        "\n",
        "# Print the number of students with concerns about their future careers\n",
        "print(\"Number of students with concerns about their future careers:\", concerns_about_future_careers_count)"
      ]
    },
    {
      "cell_type": "markdown",
      "metadata": {},
      "source": [
        "# Social Factors:\n",
        "\n",
        "1) How many students feel they have strong social support?"
      ]
    },
    {
      "cell_type": "code",
      "execution_count": 37,
      "metadata": {},
      "outputs": [
        {
          "name": "stdout",
          "output_type": "stream",
          "text": [
            "Number of students who feel they have strong social support: 458\n"
          ]
        }
      ],
      "source": [
        "# Define the threshold for strong social support\n",
        "social_support_threshold = 3\n",
        "\n",
        "# Filter the DataFrame to select rows where social_support >= social_support_threshold\n",
        "strong_social_support_count = df[df['social_support'] >= social_support_threshold].shape[0]\n",
        "\n",
        "# Print the number of students who feel they have strong social support\n",
        "print(\"Number of students who feel they have strong social support:\", strong_social_support_count)"
      ]
    },
    {
      "cell_type": "markdown",
      "metadata": {},
      "source": [
        "2) What percentage of students have experienced bullying?"
      ]
    },
    {
      "cell_type": "code",
      "execution_count": 38,
      "metadata": {},
      "outputs": [
        {
          "name": "stdout",
          "output_type": "stream",
          "text": [
            "Percentage of students who have experienced bullying: 96.45454545454545 %\n"
          ]
        }
      ],
      "source": [
        "# Define the threshold for experiencing bullying\n",
        "bullying_threshold = 1\n",
        "\n",
        "# Filter the DataFrame to select rows where bullying >= bullying_threshold\n",
        "experienced_bullying_count = df[df['bullying'] >= bullying_threshold].shape[0]\n",
        "\n",
        "# Calculate the total number of students\n",
        "total_students = df.shape[0]\n",
        "\n",
        "# Calculate the percentage of students who have experienced bullying\n",
        "percentage_bullying = (experienced_bullying_count / total_students) * 100\n",
        "\n",
        "# Print the percentage of students who have experienced bullying\n",
        "print(\"Percentage of students who have experienced bullying:\", percentage_bullying,\"%\")"
      ]
    },
    {
      "cell_type": "markdown",
      "metadata": {},
      "source": [
        "3) How many students participate in extracurricular activities?"
      ]
    },
    {
      "cell_type": "code",
      "execution_count": 39,
      "metadata": {},
      "outputs": [
        {
          "name": "stdout",
          "output_type": "stream",
          "text": [
            "Number of students participating in extracurricular activities: 1066\n"
          ]
        }
      ],
      "source": [
        "# Define the threshold for participation in extracurricular activities\n",
        "extracurricular_activities_threshold = 1\n",
        "\n",
        "# Filter the DataFrame to select rows where extracurricular_activities >= extracurricular_activities_threshold\n",
        "participating_in_extracurricular_count = df[df['extracurricular_activities'] >= extracurricular_activities_threshold].shape[0]\n",
        "\n",
        "# Print the number of students participating in extracurricular activities\n",
        "print(\"Number of students participating in extracurricular activities:\", participating_in_extracurricular_count)"
      ]
    },
    {
      "cell_type": "markdown",
      "metadata": {},
      "source": [
        "# Comparative Analysis:\n",
        "\n",
        "1) Is there a correlation between anxiety level and academic performance?"
      ]
    },
    {
      "cell_type": "code",
      "execution_count": 52,
      "metadata": {},
      "outputs": [
        {
          "data": {
            "image/png": "[encoded data removed]",
            "text/plain": [
              "<Figure size 400x300 with 1 Axes>"
            ]
          },
          "metadata": {},
          "output_type": "display_data"
        },
        {
          "name": "stdout",
          "output_type": "stream",
          "text": [
            "Correlation Coefficient between Anxiety Level and Academic Performance: -0.649601129614508\n"
          ]
        }
      ],
      "source": [
        "# Plotting a scatter plot\n",
        "plt.figure(figsize=(4, 3))\n",
        "sns.scatterplot(x='anxiety_level', y='academic_performance', data=df)\n",
        "plt.title('Scatter Plot of Anxiety Level vs Academic Performance')\n",
        "plt.xlabel('Anxiety Level')\n",
        "plt.ylabel('Academic Performance')\n",
        "plt.grid(True)\n",
        "plt.show()\n",
        "\n",
        "# Calculating the correlation coefficient\n",
        "correlation_coefficient = df['anxiety_level'].corr(df['academic_performance'])\n",
        "print(\"Correlation Coefficient between Anxiety Level and Academic Performance:\", correlation_coefficient)"
      ]
    },
    {
      "cell_type": "markdown",
      "metadata": {},
      "source": [
        "2) Do students with poor sleep quality also report higher levels of depression? plot a piechart"
      ]
    },
    {
      "cell_type": "code",
      "execution_count": 53,
      "metadata": {},
      "outputs": [
        {
          "data": {
            "image/png": "[encoded data removed]",
            "text/plain": [
              "<Figure size 500x500 with 6 Axes>"
            ]
          },
          "metadata": {},
          "output_type": "display_data"
        }
      ],
      "source": [
        "# Define the columns for the pairplot\n",
        "cols = ['sleep_quality', 'depression']\n",
        "\n",
        "# Set the style and context for seaborn\n",
        "sns.set()\n",
        "\n",
        "# Create the pairplot\n",
        "sns.pairplot(df[cols], height=2.5)\n",
        "plt.show()"
      ]
    },
    {
      "cell_type": "markdown",
      "metadata": {},
      "source": [
        "3) Are students who experience bullying more likely to have a history of mental health issues?"
      ]
    },
    {
      "cell_type": "code",
      "execution_count": 51,
      "metadata": {},
      "outputs": [
        {
          "data": {
            "image/png": "[encoded data removed]",
            "text/plain": [
              "<Figure size 400x300 with 1 Axes>"
            ]
          },
          "metadata": {},
          "output_type": "display_data"
        }
      ],
      "source": [
        "# Count the number of students who have experienced bullying\n",
        "bullying_count = df[df['bullying'] > 0].shape[0]\n",
        "\n",
        "# Count the number of students who have experienced bullying and have a history of mental health issues\n",
        "bullying_mental_health_count = df[(df['bullying'] > 0) & (df['mental_health_history'] > 0)].shape[0]\n",
        "\n",
        "# Count the number of students who have experienced bullying but do not have a history of mental health issues\n",
        "bullying_no_mental_health_count = bullying_count - bullying_mental_health_count\n",
        "\n",
        "# Define labels and values for the pie chart\n",
        "labels = ['With Mental Health Issues', 'Without Mental Health Issues']\n",
        "sizes = [bullying_mental_health_count, bullying_no_mental_health_count]\n",
        "\n",
        "# Plot the pie chart\n",
        "plt.figure(figsize=(4, 3))\n",
        "plt.pie(sizes, labels=labels, autopct='%1.1f%%', startangle=140)\n",
        "plt.title('Proportion of Students with and without Mental Health Issues\\namong those who have Experienced Bullying')\n",
        "plt.axis('equal')  # Equal aspect ratio ensures that pie is drawn as a circle.\n",
        "plt.show()"
      ]
    },
    {
      "cell_type": "markdown",
      "metadata": {},
      "source": [
        "# General Exploration:\n",
        "\n",
        "1) Which factor (Psychological, Physiological, Environmental, Academic, Social) has the highest number of students reporting negative experiences or conditions?"
      ]
    },
    {
      "cell_type": "code",
      "execution_count": 55,
      "metadata": {},
      "outputs": [
        {
          "name": "stdout",
          "output_type": "stream",
          "text": [
            "Factor with the highest number of students reporting negative experiences or conditions: Psychological\n"
          ]
        }
      ],
      "source": [
        "# Define the threshold for negative experiences or conditions\n",
        "threshold = 3\n",
        "\n",
        "# Define the columns corresponding to each factor\n",
        "psychological_cols = ['anxiety_level', 'self_esteem', 'mental_health_history', 'depression']\n",
        "physiological_cols = ['headache', 'blood_pressure', 'sleep_quality', 'breathing_problem']\n",
        "environmental_cols = ['noise_level', 'living_conditions', 'safety', 'basic_needs']\n",
        "academic_cols = ['academic_performance', 'study_load', 'teacher_student_relationship', 'future_career_concerns']\n",
        "social_cols = ['social_support', 'peer_pressure', 'extracurricular_activities', 'bullying']\n",
        "\n",
        "# Count negative experiences or conditions for each factor\n",
        "psychological_count = df[psychological_cols][df[psychological_cols] >= threshold].count().sum()\n",
        "physiological_count = df[physiological_cols][df[physiological_cols] >= threshold].count().sum()\n",
        "environmental_count = df[environmental_cols][df[environmental_cols] >= threshold].count().sum()\n",
        "academic_count = df[academic_cols][df[academic_cols] >= threshold].count().sum()\n",
        "social_count = df[social_cols][df[social_cols] >= threshold].count().sum()\n",
        "\n",
        "# Create a dictionary to store the counts for each factor\n",
        "factor_counts = {\n",
        "    'Psychological': psychological_count,\n",
        "    'Physiological': physiological_count,\n",
        "    'Environmental': environmental_count,\n",
        "    'Academic': academic_count,\n",
        "    'Social': social_count\n",
        "}\n",
        "\n",
        "# Find the factor with the highest number of students reporting negative experiences or conditions\n",
        "max_factor = max(factor_counts, key=factor_counts.get)\n",
        "\n",
        "print(\"Factor with the highest number of students reporting negative experiences or conditions:\", max_factor)"
      ]
    },
    {
      "cell_type": "markdown",
      "metadata": {},
      "source": [
        "2) Which specific feature within each factor has the most significant impact on student stress, based on the dataset?"
      ]
    },
    {
      "cell_type": "code",
      "execution_count": 56,
      "metadata": {},
      "outputs": [
        {
          "name": "stdout",
          "output_type": "stream",
          "text": [
            "Features with the highest correlation with stress_level:\n",
            "self_esteem                     0.756195\n",
            "bullying                        0.751162\n",
            "sleep_quality                   0.749068\n",
            "future_career_concerns          0.742619\n",
            "anxiety_level                   0.736795\n",
            "depression                      0.734379\n",
            "academic_performance            0.720922\n",
            "headache                        0.713484\n",
            "safety                          0.709602\n",
            "basic_needs                     0.708968\n",
            "extracurricular_activities      0.692977\n",
            "peer_pressure                   0.690684\n",
            "teacher_student_relationship    0.680163\n",
            "noise_level                     0.663371\n",
            "mental_health_history           0.648644\n",
            "study_load                      0.634156\n",
            "social_support                  0.632497\n",
            "living_conditions               0.581723\n",
            "breathing_problem               0.573984\n",
            "blood_pressure                  0.394200\n",
            "Name: stress_level, dtype: float64\n"
          ]
        }
      ],
      "source": [
        "# Calculate the correlation coefficients between each feature and stress_level\n",
        "correlation_with_stress = df.corr()['stress_level'].abs().sort_values(ascending=False)\n",
        "\n",
        "# Filter out the 'stress_level' itself\n",
        "correlation_with_stress = correlation_with_stress.drop('stress_level')\n",
        "\n",
        "# Print the features with the highest correlation coefficients\n",
        "print(\"Features with the highest correlation with stress_level:\")\n",
        "print(correlation_with_stress)"
      ]
    }
  ],
  "metadata": {
    "colab": {
      "name": "Student_exam_performance.ipynb",
      "provenance": []
    },
    "kernelspec": {
      "display_name": "Python 3",
      "name": "python3"
    },
    "language_info": {
      "codemirror_mode": {
        "name": "ipython",
        "version": 3
      },
      "file_extension": ".py",
      "mimetype": "text/x-python",
      "name": "python",
      "nbconvert_exporter": "python",
      "pygments_lexer": "ipython3",
      "version": "3.12.1"
    }
  },
  "nbformat": 4,
  "nbformat_minor": 0
}
